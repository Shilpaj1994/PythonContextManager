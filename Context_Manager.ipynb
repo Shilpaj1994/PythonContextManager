{
  "nbformat": 4,
  "nbformat_minor": 0,
  "metadata": {
    "colab": {
      "name": "Context Manager.ipynb",
      "provenance": [],
      "collapsed_sections": []
    },
    "kernelspec": {
      "name": "python3",
      "display_name": "Python 3"
    },
    "language_info": {
      "name": "python"
    }
  },
  "cells": [
    {
      "cell_type": "markdown",
      "metadata": {
        "id": "R-3HXMJMYVwi"
      },
      "source": [
        "# Context Manager Applications\n",
        "\n",
        "- Open File: Built-In\n",
        "- Open File: Custom Context Manager\n",
        "- Resource Manager\n",
        "- DataIterator\n",
        "- Decimal Precision\n",
        "- Timer\n",
        "- Logger\n",
        "- HTML Tagging\n",
        "- List Generator"
      ]
    },
    {
      "cell_type": "markdown",
      "metadata": {
        "id": "9rR6D-16Y6eI"
      },
      "source": [
        "## Open File: Built-In"
      ]
    },
    {
      "cell_type": "code",
      "metadata": {
        "colab": {
          "base_uri": "https://localhost:8080/"
        },
        "id": "cln3ypXuYRjt",
        "outputId": "fd48edf9-1671-4e4d-af99-13f5783869b1"
      },
      "source": [
        "with open('README.md', 'w') as file:\n",
        "    print('inside with: file closed?', file.closed)\n",
        "print('after with: file closed?', file.closed)"
      ],
      "execution_count": 9,
      "outputs": [
        {
          "output_type": "stream",
          "text": [
            "inside with: file closed? False\n",
            "after with: file closed? True\n"
          ],
          "name": "stdout"
        }
      ]
    },
    {
      "cell_type": "markdown",
      "metadata": {
        "id": "_rG52C3MZOFH"
      },
      "source": [
        "## Open File: Custom Context Manager"
      ]
    },
    {
      "cell_type": "code",
      "metadata": {
        "id": "CCDpCV6AY4M1"
      },
      "source": [
        "class File:\n",
        "    def __init__(self, name, mode):\n",
        "        self.name = name\n",
        "        self.mode = mode\n",
        "        \n",
        "    def __enter__(self):\n",
        "        print('opening file...')\n",
        "        self.file = open(self.name, self.mode)\n",
        "        return self.file\n",
        "    \n",
        "    def __exit__(self, exc_type, exc_value, exc_traceback):\n",
        "        print('closing file...')\n",
        "        self.file.close()\n",
        "        return False"
      ],
      "execution_count": 10,
      "outputs": []
    },
    {
      "cell_type": "code",
      "metadata": {
        "colab": {
          "base_uri": "https://localhost:8080/"
        },
        "id": "hsZCTVfBZRiY",
        "outputId": "d879538f-a308-4a06-eac0-5b8e7770a8cd"
      },
      "source": [
        "with File('README.md', 'w') as f:\n",
        "    f.write('This is some content that we are adding to the file using our own context manager.')"
      ],
      "execution_count": 11,
      "outputs": [
        {
          "output_type": "stream",
          "text": [
            "opening file...\n",
            "closing file...\n"
          ],
          "name": "stdout"
        }
      ]
    },
    {
      "cell_type": "code",
      "metadata": {
        "colab": {
          "base_uri": "https://localhost:8080/"
        },
        "id": "oEQtKUA7ZUn5",
        "outputId": "3765e9b2-a54a-47bf-8a81-ecb6104ebd9d"
      },
      "source": [
        "with File('README.md', 'r') as file_ctx:\n",
        "    print(next(file_ctx))\n",
        "    print(file_ctx.name)\n",
        "    print(file_ctx.mode)"
      ],
      "execution_count": 12,
      "outputs": [
        {
          "output_type": "stream",
          "text": [
            "opening file...\n",
            "This is some content that we are adding to the file using our own context manager.\n",
            "README.md\n",
            "r\n",
            "closing file...\n"
          ],
          "name": "stdout"
        }
      ]
    },
    {
      "cell_type": "markdown",
      "metadata": {
        "id": "ZyooFu8AZnA4"
      },
      "source": [
        "## Resource Manager: Custom Context Manager\n",
        "\n",
        "### With Exception Handling"
      ]
    },
    {
      "cell_type": "code",
      "metadata": {
        "id": "d00iganMZYc8"
      },
      "source": [
        "class ResourceManager:\n",
        "    def __init__(self, name):\n",
        "        self.name = name\n",
        "        self.resource = None\n",
        "        \n",
        "    def __enter__(self):\n",
        "        print('entering context')\n",
        "        self.resource = ResourceManager(self.name)\n",
        "        self.resource.state = 'created'\n",
        "        return self.resource\n",
        "    \n",
        "    def __exit__(self, exc_type, exc_value, exc_traceback):\n",
        "        print('exiting context')\n",
        "        self.resource.state = 'destroyed'\n",
        "        if exc_type:\n",
        "            print('error occurred')\n",
        "        return False"
      ],
      "execution_count": 13,
      "outputs": []
    },
    {
      "cell_type": "code",
      "metadata": {
        "colab": {
          "base_uri": "https://localhost:8080/"
        },
        "id": "0qTnJbAQZs8l",
        "outputId": "29bb5ed0-19ff-4f31-a3e5-4f314af0b060"
      },
      "source": [
        "with ResourceManager('spam') as res:\n",
        "    print(f'{res.name} = {res.state}')\n",
        "print(f'{res.name} = {res.state}')"
      ],
      "execution_count": 14,
      "outputs": [
        {
          "output_type": "stream",
          "text": [
            "entering context\n",
            "spam = created\n",
            "exiting context\n",
            "spam = destroyed\n"
          ],
          "name": "stdout"
        }
      ]
    },
    {
      "cell_type": "markdown",
      "metadata": {
        "id": "gtq_hqyNaSIw"
      },
      "source": [
        "###  Without Exception Handling"
      ]
    },
    {
      "cell_type": "code",
      "metadata": {
        "id": "Iiys8S3GZuXE"
      },
      "source": [
        "class ResourceManager:\n",
        "    def __init__(self, name):\n",
        "        self.name = name\n",
        "        self.resource = None\n",
        "        \n",
        "    def __enter__(self):\n",
        "        print('entering context')\n",
        "        self.resource = ResourceManager(self.name)\n",
        "        self.resource.state = 'created'\n",
        "        return self.resource\n",
        "    \n",
        "    def __exit__(self, exc_type, exc_value, exc_traceback):\n",
        "        print('exiting context')\n",
        "        self.resource.state = 'destroyed'\n",
        "        if exc_type:\n",
        "            print('error occurred')\n",
        "        return True"
      ],
      "execution_count": 15,
      "outputs": []
    },
    {
      "cell_type": "code",
      "metadata": {
        "colab": {
          "base_uri": "https://localhost:8080/"
        },
        "id": "aUozYO7YaV3b",
        "outputId": "bc17bba9-9ef5-4f58-f67e-b3bb9f12be1a"
      },
      "source": [
        "with ResourceManager('spam') as res:\n",
        "    print(f'{res.name} = {res.state}')\n",
        "print(f'{res.name} = {res.state}')"
      ],
      "execution_count": 16,
      "outputs": [
        {
          "output_type": "stream",
          "text": [
            "entering context\n",
            "spam = created\n",
            "exiting context\n",
            "spam = destroyed\n"
          ],
          "name": "stdout"
        }
      ]
    },
    {
      "cell_type": "markdown",
      "metadata": {
        "id": "N8NQnkyWakyD"
      },
      "source": [
        "## DataIterator"
      ]
    },
    {
      "cell_type": "code",
      "metadata": {
        "id": "cLBL2RHeaXVz"
      },
      "source": [
        "class DataIterator:\n",
        "    def __init__(self, fname):\n",
        "        self._fname = fname\n",
        "        self._f = None\n",
        "    \n",
        "    def __iter__(self):\n",
        "        return self\n",
        "    \n",
        "    def __next__(self):\n",
        "        row = next(self._f)\n",
        "        return row.strip('\\n').split(',')\n",
        "    \n",
        "    def __enter__(self):\n",
        "        self._f = open(self._fname)\n",
        "        return self\n",
        "    \n",
        "    def __exit__(self, exc_type, exc_value, exc_tb):\n",
        "        if not self._f.closed:\n",
        "            self._f.close()\n",
        "        return False"
      ],
      "execution_count": 17,
      "outputs": []
    },
    {
      "cell_type": "code",
      "metadata": {
        "colab": {
          "base_uri": "https://localhost:8080/"
        },
        "id": "0j5wTxh7and_",
        "outputId": "d8c7f7bd-12f7-4309-b3ee-69c84397c91a"
      },
      "source": [
        "with DataIterator('README.md') as data:\n",
        "    for row in data:\n",
        "        print(row)"
      ],
      "execution_count": 18,
      "outputs": [
        {
          "output_type": "stream",
          "text": [
            "['This is some content that we are adding to the file using our own context manager.']\n"
          ],
          "name": "stdout"
        }
      ]
    },
    {
      "cell_type": "markdown",
      "metadata": {
        "id": "Nj1JUMzqa1Fs"
      },
      "source": [
        "## Decimal Precision"
      ]
    },
    {
      "cell_type": "code",
      "metadata": {
        "id": "EAU5BwMjasXD"
      },
      "source": [
        "import decimal"
      ],
      "execution_count": 19,
      "outputs": []
    },
    {
      "cell_type": "code",
      "metadata": {
        "id": "_RhGau3aa48f"
      },
      "source": [
        "class precision:\n",
        "    def __init__(self, prec):\n",
        "        self.prec = prec\n",
        "        self.current_prec = decimal.getcontext().prec\n",
        "\n",
        "    def __enter__(self):\n",
        "        decimal.getcontext().prec = self.prec\n",
        "\n",
        "    def __exit__(self, exc_type, exc_value, exc_tb):\n",
        "        decimal.getcontext().prec = self.current_prec\n",
        "        return False"
      ],
      "execution_count": 20,
      "outputs": []
    },
    {
      "cell_type": "code",
      "metadata": {
        "colab": {
          "base_uri": "https://localhost:8080/"
        },
        "id": "YQM92Cpva6pe",
        "outputId": "96421fe1-b60c-4769-8813-a731754144c0"
      },
      "source": [
        "decimal.getcontext().prec = 14\n",
        "with precision(3):\n",
        "    print(decimal.Decimal(1) / decimal.Decimal(3))\n",
        "\n",
        "print(decimal.Decimal(1) / decimal.Decimal(3))"
      ],
      "execution_count": 21,
      "outputs": [
        {
          "output_type": "stream",
          "text": [
            "0.333\n",
            "0.33333333333333\n"
          ],
          "name": "stdout"
        }
      ]
    },
    {
      "cell_type": "markdown",
      "metadata": {
        "id": "3dBZ8Zf4a9HT"
      },
      "source": [
        "## Timer"
      ]
    },
    {
      "cell_type": "code",
      "metadata": {
        "id": "2IPspQJUa776"
      },
      "source": [
        "from time import perf_counter, sleep\n",
        "\n",
        "class Timer:\n",
        "    def __init__(self):\n",
        "        self.elapsed = 0\n",
        "\n",
        "    def __enter__(self):\n",
        "        self.start = perf_counter()\n",
        "        return self\n",
        "\n",
        "    def __exit__(self, exc_type, exc_value, exc_tb):\n",
        "        self.stop = perf_counter()\n",
        "        self.elapsed = self.stop - self.start\n",
        "        return False"
      ],
      "execution_count": 22,
      "outputs": []
    },
    {
      "cell_type": "code",
      "metadata": {
        "colab": {
          "base_uri": "https://localhost:8080/"
        },
        "id": "AA8k-mz1a_X3",
        "outputId": "3d99c544-0199-42b8-a41e-c9ced9a92c48"
      },
      "source": [
        "with Timer() as timer:\n",
        "    sleep(1)\n",
        "print(timer.elapsed)"
      ],
      "execution_count": 23,
      "outputs": [
        {
          "output_type": "stream",
          "text": [
            "1.001089998999987\n"
          ],
          "name": "stdout"
        }
      ]
    },
    {
      "cell_type": "markdown",
      "metadata": {
        "id": "pXtiT9HybD2D"
      },
      "source": [
        "## Logger"
      ]
    },
    {
      "cell_type": "code",
      "metadata": {
        "id": "DvVk0hXJbAqv"
      },
      "source": [
        "import sys\n",
        "\n",
        "class OutToFile:\n",
        "    def __init__(self, fname):\n",
        "        self._fname = fname\n",
        "        self._current_stdout = sys.stdout\n",
        "        \n",
        "    def __enter__(self):\n",
        "        self._file = open(self._fname, 'w')\n",
        "        sys.stdout = self._file\n",
        "        return self\n",
        "        \n",
        "    def __exit__(self, exc_type, exc_value, exc_tb):\n",
        "        sys.stdout = self._current_stdout\n",
        "        if self._file:\n",
        "            self._file.close()\n",
        "        return False"
      ],
      "execution_count": 24,
      "outputs": []
    },
    {
      "cell_type": "code",
      "metadata": {
        "colab": {
          "base_uri": "https://localhost:8080/"
        },
        "id": "wWUV82LWbGjW",
        "outputId": "c2945653-710e-4f15-d11b-4604270519dd"
      },
      "source": [
        "with OutToFile('test.txt') as o:\n",
        "    print('Line 1')\n",
        "    print('Line 2')\n",
        "print('Line 3')\n",
        "print(o)"
      ],
      "execution_count": 25,
      "outputs": [
        {
          "output_type": "stream",
          "text": [
            "Line 3\n",
            "<__main__.OutToFile object at 0x7f136db7fc10>\n"
          ],
          "name": "stdout"
        }
      ]
    },
    {
      "cell_type": "markdown",
      "metadata": {
        "id": "mwJQhqQ4bJhG"
      },
      "source": [
        "## HTML Tagging"
      ]
    },
    {
      "cell_type": "code",
      "metadata": {
        "id": "Q2Fdk-OFbIQ6"
      },
      "source": [
        "class Tag:\n",
        "    def __init__(self, tag):\n",
        "        self._tag = tag\n",
        "\n",
        "    def __enter__(self):\n",
        "        print(f'<{self._tag}>', end = '')\n",
        "\n",
        "    def __exit__(self, e_t, e_v, e_tr):\n",
        "        print(f'</{self._tag}>', end='')\n",
        "        return False"
      ],
      "execution_count": 26,
      "outputs": []
    },
    {
      "cell_type": "code",
      "metadata": {
        "colab": {
          "base_uri": "https://localhost:8080/"
        },
        "id": "ly3mM8-WbNQL",
        "outputId": "994f55ee-f816-488e-f535-b8a9f08991ff"
      },
      "source": [
        "with Tag('p'):\n",
        "    print('In F1, ', end='')\n",
        "    with Tag('b'):\n",
        "        print('Mercedes ', end='')\n",
        "    print(' is the best team.', end='')"
      ],
      "execution_count": 27,
      "outputs": [
        {
          "output_type": "stream",
          "text": [
            "<p>In F1, <b>Mercedes </b> is the best team.</p>"
          ],
          "name": "stdout"
        }
      ]
    },
    {
      "cell_type": "markdown",
      "metadata": {
        "id": "Lfjl16i1bTIJ"
      },
      "source": [
        "<p>In F1, <b>Mercedes </b> is the best team.</p>"
      ]
    },
    {
      "cell_type": "markdown",
      "metadata": {
        "id": "FXRU1c0NbVJ-"
      },
      "source": [
        "## List Generator"
      ]
    },
    {
      "cell_type": "code",
      "metadata": {
        "id": "nU5WaZR3bOoA"
      },
      "source": [
        "class ListMaker:\n",
        "    def __init__(self, title, prefix='- ', indent=3):\n",
        "        self._title = title\n",
        "        self._prefix = prefix\n",
        "        self._indent = indent\n",
        "        self._current_indent = 0\n",
        "        print(title)\n",
        "        \n",
        "    def __enter__(self):\n",
        "        self._current_indent += self._indent\n",
        "        return self\n",
        "    \n",
        "    def __exit__(self, exc_type, exc_value, exc_tb):\n",
        "        self._current_indent -= self._indent\n",
        "        return False\n",
        "        \n",
        "    def print(self, arg):\n",
        "        s = ' ' * self._current_indent + self._prefix + str(arg)\n",
        "        print(s)"
      ],
      "execution_count": 28,
      "outputs": []
    },
    {
      "cell_type": "code",
      "metadata": {
        "colab": {
          "base_uri": "https://localhost:8080/"
        },
        "id": "lWbq6GsHbXzm",
        "outputId": "bb55c444-0863-445d-c581-f2e571a024f2"
      },
      "source": [
        "with ListMaker('Items') as lm:\n",
        "    lm.print('Item 1')\n",
        "    with lm:\n",
        "        lm.print('item 1a')\n",
        "        lm.print('item 1b')\n",
        "    lm.print('Item 2')\n",
        "    with lm:\n",
        "        lm.print('item 2a')\n",
        "        lm.print('item 2b')\n",
        "\n",
        "print(lm)"
      ],
      "execution_count": 29,
      "outputs": [
        {
          "output_type": "stream",
          "text": [
            "Items\n",
            "   - Item 1\n",
            "      - item 1a\n",
            "      - item 1b\n",
            "   - Item 2\n",
            "      - item 2a\n",
            "      - item 2b\n",
            "<__main__.ListMaker object at 0x7f136db8b8d0>\n"
          ],
          "name": "stdout"
        }
      ]
    },
    {
      "cell_type": "markdown",
      "metadata": {
        "id": "Z2Gf41zw_2r4"
      },
      "source": [
        "---\n",
        "\n",
        "## Generators and Context Managers\n",
        "\n",
        "### Context Manager with Callable Functions as Generators"
      ]
    },
    {
      "cell_type": "code",
      "metadata": {
        "id": "4m1cNt8RbZXf"
      },
      "source": [
        "def my_gen():\n",
        "    try:\n",
        "        print('creating context and yeilding some object')\n",
        "        lst = [1, 2, 3,4, 5, 'y']\n",
        "        yield lst\n",
        "    finally:\n",
        "        print('exiting the context and cleaning up')"
      ],
      "execution_count": 30,
      "outputs": []
    },
    {
      "cell_type": "code",
      "metadata": {
        "colab": {
          "base_uri": "https://localhost:8080/"
        },
        "id": "j_pEAD96_6Cq",
        "outputId": "7b28b021-d8f3-4918-f3c0-7d6fd9c7b20e"
      },
      "source": [
        "gen = my_gen()\n",
        "lst = next(gen)\n",
        "print(lst)\n",
        "try:\n",
        "    next(gen)\n",
        "except StopIteration:\n",
        "    pass"
      ],
      "execution_count": 31,
      "outputs": [
        {
          "output_type": "stream",
          "text": [
            "creating context and yeilding some object\n",
            "[1, 2, 3, 4, 5, 'y']\n",
            "exiting the context and cleaning up\n"
          ],
          "name": "stdout"
        }
      ]
    },
    {
      "cell_type": "code",
      "metadata": {
        "id": "OwZMi0yi_88O"
      },
      "source": [
        "class GenCtxManager:\n",
        "    def __init__(self, gen_func, *args, **kwargs):\n",
        "        self._gen = gen_func(*args, **kwargs)\n",
        "\n",
        "    def __enter__(self):\n",
        "        return next(self._gen)\n",
        "\n",
        "    def __exit__(self, e_t, e_v, e_tr):\n",
        "        try:\n",
        "            next(self._gen)\n",
        "        except StopIteration:\n",
        "            pass\n",
        "        return False"
      ],
      "execution_count": 34,
      "outputs": []
    },
    {
      "cell_type": "code",
      "metadata": {
        "colab": {
          "base_uri": "https://localhost:8080/"
        },
        "id": "0xkgSN6rACmi",
        "outputId": "1b6c56e0-ce5c-4290-c7bc-eda939574a2b"
      },
      "source": [
        "with GenCtxManager(my_gen) as lst:\n",
        "    print(lst)"
      ],
      "execution_count": 35,
      "outputs": [
        {
          "output_type": "stream",
          "text": [
            "creating context and yeilding some object\n",
            "[1, 2, 3, 4, 5, 'y']\n",
            "exiting the context and cleaning up\n"
          ],
          "name": "stdout"
        }
      ]
    },
    {
      "cell_type": "markdown",
      "metadata": {
        "id": "27d7cutbDrOr"
      },
      "source": [
        "### Context Managers for Non-Callable Generators\n"
      ]
    },
    {
      "cell_type": "code",
      "metadata": {
        "id": "cB9aMqRjAHpy"
      },
      "source": [
        "def open_file(fname, mode='r'):\n",
        "    print('opening file..')\n",
        "    f = open(fname, mode)\n",
        "    try:    \n",
        "        yield f\n",
        "    finally:\n",
        "        print('closing file...')\n",
        "        f.close()"
      ],
      "execution_count": 38,
      "outputs": []
    },
    {
      "cell_type": "code",
      "metadata": {
        "id": "R-DF3OtqD3mB"
      },
      "source": [
        "class GenCtxManager:\n",
        "    def __init__(self, gen):\n",
        "        self._gen = gen\n",
        "\n",
        "    def __enter__(self):\n",
        "        return next(self._gen)\n",
        "\n",
        "    def __exit__(self, e_t, e_v, e_tr):\n",
        "        print('calling the next to perform cleanup in generator')\n",
        "        try:\n",
        "            next(self._gen)\n",
        "        except StopIteration:\n",
        "            pass\n",
        "        return False"
      ],
      "execution_count": 39,
      "outputs": []
    },
    {
      "cell_type": "code",
      "metadata": {
        "colab": {
          "base_uri": "https://localhost:8080/"
        },
        "id": "OemYnW-kCXJb",
        "outputId": "8a27252c-001d-474c-c53b-7ab601a09da0"
      },
      "source": [
        "file_gen = open_file('README.md', 'w')\n",
        "\n",
        "with GenCtxManager(file_gen) as f:\n",
        "    f.writelines('This is a new line never seen before')"
      ],
      "execution_count": 40,
      "outputs": [
        {
          "output_type": "stream",
          "text": [
            "opening file..\n",
            "calling the next to perform cleanup in generator\n",
            "closing file...\n"
          ],
          "name": "stdout"
        }
      ]
    },
    {
      "cell_type": "markdown",
      "metadata": {
        "id": "-r1WRLm5EBxV"
      },
      "source": [
        "## Context Managers, Generators and Decorators\n",
        "\n",
        "Convert a Generator into Context Manager using Decorator\n",
        "\n",
        "### Custom"
      ]
    },
    {
      "cell_type": "code",
      "metadata": {
        "id": "JZ_XxVPqDJhx"
      },
      "source": [
        "def context_manager_dec(gen_fn):\n",
        "    def helper(*args, **kwargs):\n",
        "        gen = gen_fn(*args, **kwargs)\n",
        "        ctx = GenCtxManager(gen)\n",
        "        return ctx\n",
        "    return helper"
      ],
      "execution_count": 41,
      "outputs": []
    },
    {
      "cell_type": "code",
      "metadata": {
        "id": "2Te9hoTzERt0"
      },
      "source": [
        "@context_manager_dec\n",
        "def open_file(fname, mode='r'):\n",
        "    print(\"opening file\")\n",
        "    f = open(fname, mode)\n",
        "    try:\n",
        "        yield f\n",
        "\n",
        "    finally:\n",
        "        print(\"closing the file\")\n",
        "        f.close()"
      ],
      "execution_count": 42,
      "outputs": []
    },
    {
      "cell_type": "code",
      "metadata": {
        "colab": {
          "base_uri": "https://localhost:8080/"
        },
        "id": "QKJaUBeYEXux",
        "outputId": "ff599332-e594-450b-a5e7-b9221d780df5"
      },
      "source": [
        "with open_file('test.txt') as f:\n",
        "    print(f.readlines())"
      ],
      "execution_count": 43,
      "outputs": [
        {
          "output_type": "stream",
          "text": [
            "opening file\n",
            "['Line 1\\n', 'Line 2\\n']\n",
            "calling the next to perform cleanup in generator\n",
            "closing the file\n"
          ],
          "name": "stdout"
        }
      ]
    },
    {
      "cell_type": "markdown",
      "metadata": {
        "id": "3749uKKwEspL"
      },
      "source": [
        "### Built-In"
      ]
    },
    {
      "cell_type": "code",
      "metadata": {
        "id": "d-uZbAFrEj9o"
      },
      "source": [
        "from contextlib import contextmanager\n",
        "from time import perf_counter, sleep"
      ],
      "execution_count": 45,
      "outputs": []
    },
    {
      "cell_type": "code",
      "metadata": {
        "id": "LGKgaHdHEyYc"
      },
      "source": [
        "@contextmanager\n",
        "def timer():\n",
        "    stats = dict()\n",
        "    start = perf_counter()\n",
        "    stats['start'] = start\n",
        "    try:\n",
        "        yield stats\n",
        "    finally:\n",
        "        end = perf_counter()\n",
        "        stats['end'] = end\n",
        "        stats['elapsed'] = end - start"
      ],
      "execution_count": 46,
      "outputs": []
    },
    {
      "cell_type": "code",
      "metadata": {
        "id": "l0_llussE6jo"
      },
      "source": [
        "with timer() as stats:\n",
        "    sleep(1)"
      ],
      "execution_count": 47,
      "outputs": []
    },
    {
      "cell_type": "code",
      "metadata": {
        "colab": {
          "base_uri": "https://localhost:8080/"
        },
        "id": "d6ymR5v6E9z0",
        "outputId": "a30c6614-7611-4dd9-c1f8-1e43c23d76a0"
      },
      "source": [
        "stats"
      ],
      "execution_count": 48,
      "outputs": [
        {
          "output_type": "execute_result",
          "data": {
            "text/plain": [
              "{'elapsed': 1.0006277180000325, 'end': 2943.199498652, 'start': 2942.198870934}"
            ]
          },
          "metadata": {
            "tags": []
          },
          "execution_count": 48
        }
      ]
    }
  ]
}